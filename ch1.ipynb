import cv2 # 使用cv2套件

## 在資料夾裡讀取lennna的圖片 使用imread 

img = cv2.imread("LLL.jpg")

## 顯示出來 使用imshow
cv2.imshow('Beautiful',img)

## 設定延遲秒數避免系統當機
cv2.waitKey(0)
cv2.destroyAllWindows()
